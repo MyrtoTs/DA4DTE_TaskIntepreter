{
  "nbformat": 4,
  "nbformat_minor": 0,
  "metadata": {
    "colab": {
      "provenance": []
    },
    "kernelspec": {
      "name": "python3",
      "display_name": "Python 3"
    },
    "language_info": {
      "name": "python"
    }
  },
  "cells": [
    {
      "cell_type": "code",
      "source": [
        "import spacy\n",
        "import en_core_web_sm\n",
        "!pip install -U sentence-transformers\n",
        "from sentence_transformers import SentenceTransformer\n",
        "\n",
        "model = SentenceTransformer('bert-base-nli-mean-tokens')\n",
        "\n",
        "from sklearn.metrics.pairwise import cosine_similarity\n",
        "import random"
      ],
      "metadata": {
        "id": "vdByhZgvMVpV"
      },
      "execution_count": null,
      "outputs": []
    },
    {
      "cell_type": "code",
      "source": [
        "users_input = {'text' :'',\n",
        "               'image' : ''}\n",
        "\n",
        "output_to_engine = {'engine': '',\n",
        "                    'request':\n",
        "                     {'text':'',\n",
        "                      'image':''}\n",
        "                    }\n",
        "engine_output = {'text': '', 'link': ''} # ... waiting for engines output formats to be decided\n",
        "\n",
        "output_to_user = {'answer': ''}"
      ],
      "metadata": {
        "id": "NdFpWY0Xa8K0"
      },
      "execution_count": null,
      "outputs": []
    },
    {
      "cell_type": "markdown",
      "source": [
        "# Engine Selection - Step 1\n",
        "# (format - based)"
      ],
      "metadata": {
        "id": "N5yUo0luWDhR"
      }
    },
    {
      "cell_type": "code",
      "source": [
        "def user_input_format(user_input):\n",
        "  if user_input['image']!='':\n",
        "    if user_input['text']=='':\n",
        "      return 'image'\n",
        "    else:\n",
        "      return 'text + image'\n",
        "  if user_input['text']!='':\n",
        "    return 'text'"
      ],
      "metadata": {
        "id": "YT6gfT4oWhuN"
      },
      "execution_count": null,
      "outputs": []
    },
    {
      "cell_type": "markdown",
      "source": [
        "# Engine Selection 2a"
      ],
      "metadata": {
        "id": "9QjlZrO2OxGI"
      }
    },
    {
      "cell_type": "code",
      "source": [
        "SbI_list = ['Show me images similar to this one.', 'Find me images that look like this one.']\n",
        "vQA_list = ['How many vessels does this image show?', 'Is this a rural or an urban area?']\n",
        "\n",
        "SbI_embeddings = model.encode(SbI_list)\n",
        "vQA_embeddings = model.encode(vQA_list)"
      ],
      "metadata": {
        "id": "XJxuyuO5K1RR"
      },
      "execution_count": null,
      "outputs": []
    },
    {
      "cell_type": "code",
      "source": [
        "def engine_selection_2a(text):\n",
        "  text_embeddings = [model.encode(text)]\n",
        "\n",
        "  if cosine_similarity(text_embeddings,SbI_embeddings[:]).max() > cosine_similarity(text_embeddings,vQA_embeddings[:]).max():\n",
        "    return 'SbI'\n",
        "  else:\n",
        "    return 'vQA'"
      ],
      "metadata": {
        "id": "w1-CXxi0Ozgz"
      },
      "execution_count": null,
      "outputs": []
    },
    {
      "cell_type": "markdown",
      "source": [
        "# Engine Selection 2b"
      ],
      "metadata": {
        "id": "exDuJ_nZDqeU"
      }
    },
    {
      "cell_type": "code",
      "source": [
        "def request_disambiguation(text):\n",
        "  disambiguation = {'need' : False,\n",
        "                    'message' : '' }\n",
        "  if ' near ' in users_input['text']:\n",
        "    disambiguation['need'] = True\n",
        "    disambiguation['message'] = \"Can you repeat your question replacing 'near' with a specific distance, please?\"\n",
        "\n",
        "  return disambiguation"
      ],
      "metadata": {
        "id": "iLRhDcf8ds7G"
      },
      "execution_count": null,
      "outputs": []
    },
    {
      "cell_type": "code",
      "source": [
        "def existence_of_geographical_object(textual_input):\n",
        "  geo_object_presense = False\n",
        "  nlp = en_core_web_sm.load()\n",
        "  doc = nlp(textual_input)\n",
        "\n",
        "  for X in doc.ents:\n",
        "    if X.label_ in ['GPE','FAC','LOC']:\n",
        "      geo_object_presense = True\n",
        "      break\n",
        "\n",
        "  return geo_object_presense"
      ],
      "metadata": {
        "id": "VCn2Bm99DvPq"
      },
      "execution_count": null,
      "outputs": []
    },
    {
      "cell_type": "code",
      "source": [
        "def engine_selection_2b(text):\n",
        "  if existence_of_geographical_object(text) == True:\n",
        "    return 'EarthQA'\n",
        "  else:\n",
        "    return 'SbT'"
      ],
      "metadata": {
        "id": "IyKMHCXsNsIW"
      },
      "execution_count": null,
      "outputs": []
    },
    {
      "cell_type": "markdown",
      "source": [
        "## choose between Chat and EarthQA enamples"
      ],
      "metadata": {
        "id": "DNcvij4vfnnB"
      }
    },
    {
      "cell_type": "code",
      "source": [
        "engine_selection_2b('Find me images with vessels near Genoa port.') # !important! geographical objects have to be in English.. eg Genoa , not Genova"
      ],
      "metadata": {
        "colab": {
          "base_uri": "https://localhost:8080/",
          "height": 35
        },
        "id": "NbySij45fnS2",
        "outputId": "e00a16a7-566e-4e15-f210-551132c2e58d"
      },
      "execution_count": null,
      "outputs": [
        {
          "output_type": "execute_result",
          "data": {
            "text/plain": [
              "'EarthQA'"
            ],
            "application/vnd.google.colaboratory.intrinsic+json": {
              "type": "string"
            }
          },
          "metadata": {},
          "execution_count": 9
        }
      ]
    },
    {
      "cell_type": "code",
      "source": [
        "engine_selection_2b('Find me images with vessels in Aliakmonas')"
      ],
      "metadata": {
        "colab": {
          "base_uri": "https://localhost:8080/",
          "height": 35
        },
        "id": "L-36sIXKf-Tk",
        "outputId": "dfd956cd-b474-4a28-e82c-3cf42ad87a28"
      },
      "execution_count": null,
      "outputs": [
        {
          "output_type": "execute_result",
          "data": {
            "text/plain": [
              "'EarthQA'"
            ],
            "application/vnd.google.colaboratory.intrinsic+json": {
              "type": "string"
            }
          },
          "metadata": {},
          "execution_count": 30
        }
      ]
    },
    {
      "cell_type": "code",
      "source": [
        "engine_selection_2b('Find me images with mountains near zagorohoria')"
      ],
      "metadata": {
        "colab": {
          "base_uri": "https://localhost:8080/",
          "height": 35
        },
        "id": "BTsgmDy7l8fp",
        "outputId": "1d9f806b-6baa-4819-899d-c94337344a24"
      },
      "execution_count": null,
      "outputs": [
        {
          "output_type": "execute_result",
          "data": {
            "text/plain": [
              "'EarthQA'"
            ],
            "application/vnd.google.colaboratory.intrinsic+json": {
              "type": "string"
            }
          },
          "metadata": {},
          "execution_count": 33
        }
      ]
    },
    {
      "cell_type": "code",
      "source": [
        "engine_selection_2b('Find me images with mountains near Itea.')"
      ],
      "metadata": {
        "colab": {
          "base_uri": "https://localhost:8080/",
          "height": 35
        },
        "id": "cUqEopeUmKaT",
        "outputId": "abc73560-4b18-47f1-8af5-d2f385ebfb0d"
      },
      "execution_count": null,
      "outputs": [
        {
          "output_type": "execute_result",
          "data": {
            "text/plain": [
              "'EarthQA'"
            ],
            "application/vnd.google.colaboratory.intrinsic+json": {
              "type": "string"
            }
          },
          "metadata": {},
          "execution_count": 34
        }
      ]
    },
    {
      "cell_type": "code",
      "source": [
        "engine_selection_2b('Find me images with mountains in london.')"
      ],
      "metadata": {
        "colab": {
          "base_uri": "https://localhost:8080/",
          "height": 35
        },
        "id": "TKxYNwjnmYPZ",
        "outputId": "3ffdac84-d262-43f5-bf1d-ffb300490863"
      },
      "execution_count": null,
      "outputs": [
        {
          "output_type": "execute_result",
          "data": {
            "text/plain": [
              "'EarthQA'"
            ],
            "application/vnd.google.colaboratory.intrinsic+json": {
              "type": "string"
            }
          },
          "metadata": {},
          "execution_count": 35
        }
      ]
    },
    {
      "cell_type": "code",
      "source": [
        "engine_selection_2b('Find me images with mountains.')"
      ],
      "metadata": {
        "colab": {
          "base_uri": "https://localhost:8080/",
          "height": 35
        },
        "id": "Kr-Q6gaHmhuG",
        "outputId": "05e83db2-2d83-4e75-ff15-a7752b8e50da"
      },
      "execution_count": null,
      "outputs": [
        {
          "output_type": "execute_result",
          "data": {
            "text/plain": [
              "'SbT'"
            ],
            "application/vnd.google.colaboratory.intrinsic+json": {
              "type": "string"
            }
          },
          "metadata": {},
          "execution_count": 36
        }
      ]
    },
    {
      "cell_type": "markdown",
      "source": [
        "## chat/textual engine decision"
      ],
      "metadata": {
        "id": "l97XCXwbvpyM"
      }
    },
    {
      "cell_type": "code",
      "source": [
        "chat_list = ['Thank you!', 'This was all I wanted']\n",
        "engine_list = ['Show me images containing vessels', 'Find me Sentinel-2 satellite images that show Mount Etna, have been taken in February 2021 and have cloud cover less than 10%).']"
      ],
      "metadata": {
        "id": "y91c-4lht0Mt"
      },
      "execution_count": null,
      "outputs": []
    },
    {
      "cell_type": "code",
      "source": [
        "chat_embeddings = model.encode(chat_list)\n",
        "engine_embeddings = model.encode(engine_list)"
      ],
      "metadata": {
        "id": "zLQ1yCravyLU"
      },
      "execution_count": null,
      "outputs": []
    },
    {
      "cell_type": "code",
      "source": [
        "def request_to_textual_engine(text):\n",
        "  # when we have a dataset of user's requests, we can implement this function via a binary classifier\n",
        "  request = False\n",
        "  # find users request's embedding\n",
        "  text_embeddings = [model.encode(text)]\n",
        "\n",
        "  if cosine_similarity(text_embeddings,chat_embeddings[:]).max() < cosine_similarity(text_embeddings,engine_embeddings[:]).max():\n",
        "    request = True\n",
        "\n",
        "  return request"
      ],
      "metadata": {
        "id": "Hz72RKa1iW-j"
      },
      "execution_count": null,
      "outputs": []
    },
    {
      "cell_type": "markdown",
      "source": [
        "# Response enhancement"
      ],
      "metadata": {
        "id": "mGysuGn1R3Lg"
      }
    },
    {
      "cell_type": "code",
      "source": [
        "def response_enhancement(engine, answer):\n",
        "#... waiting for engines output formats to be decided\n",
        "  assist_list = ['What else can I help you with?', 'I will be glad to help you with your next request. :)', 'What else can I assist you with?', 'Pose another request, please.']\n",
        "  response = engine +  ' answer.\\n' + random.choice(assist_list)\n",
        "  return response"
      ],
      "metadata": {
        "id": "UhEBpBNASBGc"
      },
      "execution_count": null,
      "outputs": []
    },
    {
      "cell_type": "markdown",
      "source": [
        "# crucial function"
      ],
      "metadata": {
        "id": "8NtXXQ6TWdpN"
      }
    },
    {
      "cell_type": "code",
      "source": [
        "def digital_assistant_to_engine(users_input):\n",
        "\n",
        "  #Engine Selection step 1\n",
        "  # path 'text with image'\n",
        "  if  user_input_format(users_input) == 'text + image':\n",
        "    # Engine Selection 2a\n",
        "    output_to_engine['engine'] = engine_selection_2a(users_input['text'])\n",
        "    output_to_engine['request'] = users_input\n",
        "\n",
        "  #path 'textual'\n",
        "  elif user_input_format(users_input) == 'text':\n",
        "    # decide between chat and textual engine\n",
        "    if request_to_textual_engine(users_input['text']) == False :\n",
        "      output_to_engine['engine'] = 'conversational'\n",
        "      output_to_engine['request'] = users_input\n",
        "    else:\n",
        "      # asking for clarifications\n",
        "      if request_disambiguation(users_input['text'])['need'] == True:\n",
        "        return request_disambiguation(users_input['text'])['message']\n",
        "\n",
        "      # Engine Selection 2b\n",
        "      output_to_engine['engine'] = engine_selection_2b(users_input['text'])\n",
        "      output_to_engine['request'] = users_input\n",
        "\n",
        "  return output_to_engine"
      ],
      "metadata": {
        "id": "ZeC0MacvcA3I"
      },
      "execution_count": null,
      "outputs": []
    },
    {
      "cell_type": "code",
      "source": [],
      "metadata": {
        "id": "dC5v4u55opDx"
      },
      "execution_count": null,
      "outputs": []
    },
    {
      "cell_type": "markdown",
      "source": [
        "# main ()"
      ],
      "metadata": {
        "id": "bUIEJM9y4ws3"
      }
    },
    {
      "cell_type": "code",
      "source": [
        "def main():\n",
        "    messages = [{\"role\": \"assistant\", \"content\": \"Welcome to DA4DTE! Please enter your request.\",\n",
        "                         'image': ''}]\n",
        "    while True:\n",
        "        # read users_input file\n",
        "        messages.append({\"role\": \"user\", \"content\": users_input['text'],\n",
        "                         'image': users_input['image']})\n",
        "\n",
        "        if type(digital_assistant_to_engine(users_input))== str: # meaning that disambiguation is needed\n",
        "          answer = digital_assistant_to_engine(users_input)\n",
        "\n",
        "        else:\n",
        "          engine_input = digital_assistant_to_engine(users_input)\n",
        "          # the engine_input json file is available\n",
        "          #[... waiting for the engine to respond ...]\n",
        "          # TI reads engine_output json file\n",
        "          answer = response_enhancement(engine_output)\n",
        "          # the output_to_user file is available\n",
        "\n",
        "        messages.append({\"role\": \"assistant\", \"content\": answer, \"image\":''})"
      ],
      "metadata": {
        "id": "QUaXy56TcgW_"
      },
      "execution_count": null,
      "outputs": []
    },
    {
      "cell_type": "markdown",
      "source": [
        "# demo"
      ],
      "metadata": {
        "id": "GIzKj0JQrG15"
      }
    },
    {
      "cell_type": "code",
      "source": [
        "def demo():\n",
        "    messages = [{\"role\": \"assistant\", \"content\": \"Welcome to DA4DTE! Please enter your request.\",\n",
        "                         'image': ''}]\n",
        "    while True:\n",
        "        # read users_input file\n",
        "        file = input(\"INSERT FILE NUMBER:  1-5. Type 'exit' to exit.\")\n",
        "\n",
        "        if file=='exit':\n",
        "          for m in messages:\n",
        "            print(m)\n",
        "          break\n",
        "\n",
        "        with open(\"/content/gdrive/MyDrive/Colab Notebooks/DA4DTE TI/example\"+file+\".json\", \"r\") as file:\n",
        "          users_input = json.load(file)\n",
        "\n",
        "        print('\\nUser:')\n",
        "        print(users_input)\n",
        "\n",
        "        messages.append({\"role\": \"user\", \"content\": users_input['text'],\n",
        "                         'image': users_input['image']})\n",
        "\n",
        "        if type(digital_assistant_to_engine(users_input))== str: # meaning that disambiguation is needed\n",
        "          answer = digital_assistant_to_engine(users_input)\n",
        "\n",
        "        else:\n",
        "          engine_input = digital_assistant_to_engine(users_input)\n",
        "          # the engine_input json file is available\n",
        "          #[... waiting for the engine to respond ...]\n",
        "          engine_output = engine_input['engine'] ## temporarily\n",
        "          # TI reads engine_output json file\n",
        "          answer = response_enhancement(engine_output,'')\n",
        "          # the output_to_user file is available\n",
        "\n",
        "          print('DA4DTE:')\n",
        "          print(answer+'\\n')\n",
        "\n",
        "        messages.append({\"role\": \"assistant\", \"content\": answer, \"image\":''})\n",
        "\n"
      ],
      "metadata": {
        "id": "jZb11T-GrEtE"
      },
      "execution_count": null,
      "outputs": []
    },
    {
      "cell_type": "code",
      "source": [
        "# create some user's inputs json files\n",
        "import json\n",
        "from google.colab import drive\n",
        "drive.mount('/content/gdrive', force_remount=True)"
      ],
      "metadata": {
        "id": "amTxfST8ogeq",
        "colab": {
          "base_uri": "https://localhost:8080/"
        },
        "outputId": "f57d9830-fca1-453e-87da-d6731475b0be"
      },
      "execution_count": null,
      "outputs": [
        {
          "output_type": "stream",
          "name": "stdout",
          "text": [
            "Mounted at /content/gdrive\n"
          ]
        }
      ]
    },
    {
      "cell_type": "code",
      "source": [
        "demo()"
      ],
      "metadata": {
        "colab": {
          "base_uri": "https://localhost:8080/"
        },
        "id": "eD-jzVKStiel",
        "outputId": "cfec7d17-8f87-4e76-bed9-481b5bd5d122"
      },
      "execution_count": null,
      "outputs": [
        {
          "output_type": "stream",
          "name": "stdout",
          "text": [
            "INSERT FILE NUMBER:  1-5. Type 'exit' to exit.1\n",
            "\n",
            "User:\n",
            "{'text': 'Give me an image with vessels.', 'image': ''}\n",
            "DA4DTE:\n",
            "SbT answer.\n",
            "What else can I assist you with?\n",
            "\n",
            "INSERT FILE NUMBER:  1-5. Type 'exit' to exit.3\n",
            "\n",
            "User:\n",
            "{'text': 'Show me 100 similar images.', 'image': 'IMAGE'}\n",
            "DA4DTE:\n",
            "SbI answer.\n",
            "What else can I assist you with?\n",
            "\n",
            "INSERT FILE NUMBER:  1-5. Type 'exit' to exit.2\n",
            "\n",
            "User:\n",
            "{'text': 'Retrieve Sentinel-2 images containing marine litters in the Mediterranean sea.', 'image': ''}\n",
            "DA4DTE:\n",
            "EarthQA answer.\n",
            "What else can I help you with?\n",
            "\n",
            "INSERT FILE NUMBER:  1-5. Type 'exit' to exit.4\n",
            "\n",
            "User:\n",
            "{'text': 'Is this a rural or an urban area?', 'image': 'IMAGE'}\n",
            "DA4DTE:\n",
            "vQA answer.\n",
            "What else can I help you with?\n",
            "\n",
            "INSERT FILE NUMBER:  1-5. Type 'exit' to exit.5\n",
            "\n",
            "User:\n",
            "{'text': 'Thank you', 'image': ''}\n",
            "DA4DTE:\n",
            "conversational answer.\n",
            "What else can I help you with?\n",
            "\n",
            "INSERT FILE NUMBER:  1-5. Type 'exit' to exit.exit\n",
            "{'role': 'assistant', 'content': 'Welcome to DA4DTE! Please enter your request.', 'image': ''}\n",
            "{'role': 'user', 'content': 'Give me an image with vessels.', 'image': ''}\n",
            "{'role': 'assistant', 'content': 'SbT answer.\\nWhat else can I assist you with?', 'image': ''}\n",
            "{'role': 'user', 'content': 'Show me 100 similar images.', 'image': 'IMAGE'}\n",
            "{'role': 'assistant', 'content': 'SbI answer.\\nWhat else can I assist you with?', 'image': ''}\n",
            "{'role': 'user', 'content': 'Retrieve Sentinel-2 images containing marine litters in the Mediterranean sea.', 'image': ''}\n",
            "{'role': 'assistant', 'content': 'EarthQA answer.\\nWhat else can I help you with?', 'image': ''}\n",
            "{'role': 'user', 'content': 'Is this a rural or an urban area?', 'image': 'IMAGE'}\n",
            "{'role': 'assistant', 'content': 'vQA answer.\\nWhat else can I help you with?', 'image': ''}\n",
            "{'role': 'user', 'content': 'Thank you', 'image': ''}\n",
            "{'role': 'assistant', 'content': 'conversational answer.\\nWhat else can I help you with?', 'image': ''}\n"
          ]
        }
      ]
    },
    {
      "cell_type": "markdown",
      "source": [
        "# examples"
      ],
      "metadata": {
        "id": "7ouY7WwEopxS"
      }
    },
    {
      "cell_type": "code",
      "source": [
        "users_input_x = {'text' :'Give me an image with vessels.',\n",
        "               'image' : ''}\n",
        "# Serializing json\n",
        "json_object = json.dumps(users_input_x, indent=4)\n",
        "\n",
        "# Writing to user_request_x.json\n",
        "with open(\"/content/gdrive/MyDrive/Colab Notebooks/DA4DTE TI/example1.json\", \"w\") as outfile:\n",
        "    outfile.write(json_object)"
      ],
      "metadata": {
        "id": "A6ir6iqzo6u6"
      },
      "execution_count": null,
      "outputs": []
    },
    {
      "cell_type": "code",
      "source": [
        "users_input_x = {'text' :'Retrieve Sentinel-2 images containing marine litters in the Mediterranean sea.',\n",
        "               'image' : ''}\n",
        "# Serializing json\n",
        "json_object = json.dumps(users_input_x, indent=4)\n",
        "\n",
        "# Writing to user_request_x.json\n",
        "with open(\"/content/gdrive/MyDrive/Colab Notebooks/DA4DTE TI/example2.json\", \"w\") as outfile:\n",
        "    outfile.write(json_object)"
      ],
      "metadata": {
        "id": "09LEGEOhvIxp"
      },
      "execution_count": null,
      "outputs": []
    },
    {
      "cell_type": "code",
      "source": [
        "users_input_x = {'text' :'Show me 100 similar images.',\n",
        "               'image' : 'IMAGE'}\n",
        "# Serializing json\n",
        "json_object = json.dumps(users_input_x, indent=4)\n",
        "\n",
        "# Writing to user_request_x.json\n",
        "with open(\"/content/gdrive/MyDrive/Colab Notebooks/DA4DTE TI/example3.json\", \"w\") as outfile:\n",
        "    outfile.write(json_object)"
      ],
      "metadata": {
        "id": "2Qlq7YnlvHrb"
      },
      "execution_count": null,
      "outputs": []
    },
    {
      "cell_type": "code",
      "source": [
        "users_input_x = {'text' :'Is this a rural or an urban area?',\n",
        "               'image' : 'IMAGE'}\n",
        "# Serializing json\n",
        "json_object = json.dumps(users_input_x, indent=4)\n",
        "\n",
        "# Writing to user_request_x.json\n",
        "with open(\"/content/gdrive/MyDrive/Colab Notebooks/DA4DTE TI/example4.json\", \"w\") as outfile:\n",
        "    outfile.write(json_object)"
      ],
      "metadata": {
        "id": "fS6FszLvq80Z"
      },
      "execution_count": null,
      "outputs": []
    },
    {
      "cell_type": "code",
      "source": [
        "users_input_x = {'text' :'Thank you',\n",
        "               'image' : ''}\n",
        "# Serializing json\n",
        "json_object = json.dumps(users_input_x, indent=4)\n",
        "\n",
        "# Writing to user_request_x.json\n",
        "with open(\"/content/gdrive/MyDrive/Colab Notebooks/DA4DTE TI/example5.json\", \"w\") as outfile:\n",
        "    outfile.write(json_object)"
      ],
      "metadata": {
        "id": "MdZOcVrIwqbj"
      },
      "execution_count": null,
      "outputs": []
    }
  ]
}